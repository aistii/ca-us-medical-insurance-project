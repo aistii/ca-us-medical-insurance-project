{
 "cells": [
  {
   "cell_type": "markdown",
   "metadata": {},
   "source": [
    "# U.S. Medical Insurance Costs\n",
    "This project looks at correlation between regions and how much insurance costs, as well as the smoking habits and if they have any correlation with the region data point. "
   ]
  },
  {
   "cell_type": "markdown",
   "metadata": {},
   "source": [
    "First, we will import our CSV file into the program, and then store the data in a list.\n",
    "\n",
    "Each row in the CSV will be a dictionary of k-v pairs that follow the same pattern as the one in the CSV. However, the `smoker` field is either a `yes` or `no`, so it is converted to a 1 or 0, respectively, in the `smoker_binary()` function.\n",
    "\n",
    "In addition, regions will be recorded in this fashion:\n",
    "- northwest = 1\n",
    "- northeast = 2\n",
    "- southwest = 3\n",
    "- southeast = 4\n",
    "\n",
    "This transformation will be in the function `region_conversion()`."
   ]
  },
  {
   "cell_type": "code",
   "execution_count": 23,
   "metadata": {},
   "outputs": [],
   "source": [
    "import csv\n",
    "\n",
    "insur_list = []\n",
    "\n",
    "\n",
    "def smoker_binary(str):\n",
    "    if str == \"yes\":\n",
    "        return 1\n",
    "    elif str == \"no\":\n",
    "        return 0\n",
    "\n",
    "def region_conversion(str):\n",
    "    if str == \"northwest\":\n",
    "        return 1\n",
    "    elif str == \"northeast\":\n",
    "        return 2\n",
    "    elif str == \"southwest\":\n",
    "        return 3\n",
    "    elif str == \"southeast\":\n",
    "        return 4\n",
    "\n",
    "with open('insurance.csv') as insurance_csv:\n",
    "    reader = csv.DictReader(insurance_csv)\n",
    "    for row in reader:\n",
    "        insur_list.append({\n",
    "            'age': row['age'],\n",
    "            'sex': row['sex'],\n",
    "            'bmi': row['bmi'],\n",
    "            'children': row['children'],\n",
    "            'smoker': smoker_binary(row['smoker']),\n",
    "            'region': region_conversion(row['region']),\n",
    "            'charges': float(row['charges'])\n",
    "        })\n",
    "\n",
    "list_len = len(insur_list) # For use later"
   ]
  },
  {
   "cell_type": "markdown",
   "metadata": {},
   "source": [
    "## Region and Insurance Costs\n",
    "In this portion, we will look at the average cost per region.\n",
    "No arguments are taken, since it will provide this data upfront.\n",
    "- However, one could modify the function to accept an argument (either scanned in or passed as an argument) to show the results for a specific region."
   ]
  },
  {
   "cell_type": "code",
   "execution_count": 24,
   "metadata": {},
   "outputs": [
    {
     "name": "stdout",
     "output_type": "stream",
     "text": [
      "The northwest region had an average insurance cost of $12417.58.\n",
      "The northeast region had an average insurance cost of $13406.38.\n",
      "The southwest region had an average insurance cost of $12346.94.\n",
      "The southeast region had an average insurance cost of $14735.41.\n"
     ]
    }
   ],
   "source": [
    "def avg_by_region_cost():\n",
    "    # Marked as 1\n",
    "    nw_total_cost = 0\n",
    "    nw_count = 0\n",
    "\n",
    "    # Marked as 2\n",
    "    ne_total_cost = 0\n",
    "    ne_count = 0\n",
    "\n",
    "    # Marked as 3\n",
    "    sw_total_cost = 0\n",
    "    sw_count = 0\n",
    "\n",
    "    # Marked as 4\n",
    "    se_total_cost = 0\n",
    "    se_count = 0\n",
    "\n",
    "    for row in insur_list:\n",
    "        if row['region'] == 1: # Northwest\n",
    "            nw_count += 1\n",
    "            nw_total_cost += row['charges']\n",
    "        elif row['region'] == 2: # Northeast\n",
    "            ne_count += 1\n",
    "            ne_total_cost += row['charges']\n",
    "        elif row['region'] == 3: # Southwest\n",
    "            sw_count += 1\n",
    "            sw_total_cost += row['charges']\n",
    "        elif row['region'] == 4: # Southeast\n",
    "            se_count += 1\n",
    "            se_total_cost += row['charges']\n",
    "\n",
    "    nw_avg = nw_total_cost / nw_count\n",
    "    ne_avg = ne_total_cost / ne_count\n",
    "    sw_avg = sw_total_cost / sw_count\n",
    "    se_avg = se_total_cost / se_count\n",
    "\n",
    "    return nw_avg, ne_avg, sw_avg, se_avg\n",
    "\n",
    "nw_cost, ne_cost, sw_cost, se_cost = avg_by_region_cost()\n",
    "print('The northwest region had an average insurance cost of ${:.2f}.'.format(nw_cost))\n",
    "print('The northeast region had an average insurance cost of ${:.2f}.'.format(ne_cost))\n",
    "print('The southwest region had an average insurance cost of ${:.2f}.'.format(sw_cost))\n",
    "print('The southeast region had an average insurance cost of ${:.2f}.'.format(se_cost))"
   ]
  },
  {
   "cell_type": "markdown",
   "metadata": {},
   "source": [
    "## Smoker and Region Correlations\n",
    "This looks at the total count of smokers per region. It follows the same logic as the counting mechanism in the `avg_by_region_cost()` function. Also checks what percentage overall are smokers."
   ]
  },
  {
   "cell_type": "code",
   "execution_count": 45,
   "metadata": {},
   "outputs": [
    {
     "name": "stdout",
     "output_type": "stream",
     "text": [
      "In the dataset of 1338 people, in total, there were 274 that are smokers, or about 20.478 percent of the total sampled.\n",
      "The northwest had 58 smokers, and made up 21.168 percent of smokers.\n",
      "The northeast had 67 smokers, and made up 24.453 percent of smokers.\n",
      "The southwest had 58 smokers, and made up 21.168 percent of smokers.\n",
      "The southeast had 91 smokers, and made up 33.212 percent of smokers.\n"
     ]
    }
   ],
   "source": [
    "def smoker_by_region():\n",
    "    # Marked as 1\n",
    "    nw_count = 0\n",
    "\n",
    "    # Marked as 2\n",
    "    ne_count = 0\n",
    "\n",
    "    # Marked as 3\n",
    "    sw_count = 0\n",
    "\n",
    "    # Marked as 4\n",
    "    se_count = 0\n",
    "\n",
    "    for row in insur_list:\n",
    "        if row['smoker'] == 1:\n",
    "            if row['region'] == 1: # Northwest\n",
    "                nw_count += 1\n",
    "            elif row['region'] == 2: # Northeast\n",
    "                ne_count += 1\n",
    "            elif row['region'] == 3: # Southwest\n",
    "                sw_count += 1\n",
    "            elif row['region'] == 4: # Southeast\n",
    "                se_count += 1\n",
    "\n",
    "    total_smoker = nw_count + ne_count + sw_count + se_count\n",
    "\n",
    "    return nw_count, ne_count, sw_count, se_count, total_smoker\n",
    "\n",
    "nw_smoke, ne_smoke, sw_smoke, se_smoke, total_smoke = smoker_by_region()\n",
    "print('In the dataset of {} people, in total, there were {} that are smokers, or about {:.3f} percent of the total sampled.'.format(list_len, total_smoke, (total_smoke/list_len) * 100))\n",
    "print('The northwest had {} smokers, and made up {:.3f} percent of smokers.'.format(nw_smoke, (nw_smoke / total_smoke) * 100))\n",
    "print('The northeast had {} smokers, and made up {:.3f} percent of smokers.'.format(ne_smoke, (ne_smoke / total_smoke) * 100))\n",
    "print('The southwest had {} smokers, and made up {:.3f} percent of smokers.'.format(sw_smoke, (sw_smoke / total_smoke) * 100))\n",
    "print('The southeast had {} smokers, and made up {:.3f} percent of smokers.'.format(se_smoke, (se_smoke / total_smoke) * 100))"
   ]
  },
  {
   "cell_type": "markdown",
   "metadata": {},
   "source": [
    "## Findings\n",
    "From here, we can see that there is a correlation between the number of smokers per region and the average cost of insurance per region. The southeast had the highest insurance cost, and made up most of the smokers that were included in this dataset.\n",
    "\n",
    "However, this doesn't take into account the other numerous factors that can play a role in determining insurance cost, such as a person's age, sex, BMI, or number of children."
   ]
  }
 ],
 "metadata": {
  "kernelspec": {
   "display_name": "Python 3",
   "language": "python",
   "name": "python3"
  },
  "language_info": {
   "codemirror_mode": {
    "name": "ipython",
    "version": 3
   },
   "file_extension": ".py",
   "mimetype": "text/x-python",
   "name": "python",
   "nbconvert_exporter": "python",
   "pygments_lexer": "ipython3",
   "version": "3.11.5"
  }
 },
 "nbformat": 4,
 "nbformat_minor": 4
}
